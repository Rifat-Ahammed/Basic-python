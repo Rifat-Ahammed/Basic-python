{
 "cells": [
  {
   "cell_type": "code",
   "execution_count": null,
   "id": "6b9b50c3",
   "metadata": {},
   "outputs": [],
   "source": [
    "x = int(input(\"what's X? \"))\n",
    "y = int(input(\"What's Y? \"))\n",
    "temp = x\n",
    "x = y\n",
    "y = temp\n",
    "print(\"X: \", x)\n",
    "print(\"Y: \", y)"
   ]
  },
  {
   "cell_type": "code",
   "execution_count": null,
   "id": "529f38c6",
   "metadata": {},
   "outputs": [],
   "source": []
  }
 ],
 "metadata": {
  "kernelspec": {
   "display_name": "Python 3 (ipykernel)",
   "language": "python",
   "name": "python3"
  },
  "language_info": {
   "codemirror_mode": {
    "name": "ipython",
    "version": 3
   },
   "file_extension": ".py",
   "mimetype": "text/x-python",
   "name": "python",
   "nbconvert_exporter": "python",
   "pygments_lexer": "ipython3",
   "version": "3.11.3"
  }
 },
 "nbformat": 4,
 "nbformat_minor": 5
}

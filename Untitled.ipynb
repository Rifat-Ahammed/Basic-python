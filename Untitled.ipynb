{
 "cells": [
  {
   "cell_type": "code",
   "execution_count": 2,
   "id": "0320a573",
   "metadata": {},
   "outputs": [
    {
     "name": "stdout",
     "output_type": "stream",
     "text": [
      "Enter any number: 4\n",
      "Too Low\n",
      "Enter number again: 6\n",
      "Your guess is right\n"
     ]
    }
   ],
   "source": [
    "import random\n",
    "\n",
    "n = random.randrange(1, 10)\n",
    "\n",
    "guess = int(input(\"Enter any number: \"))\n",
    "\n",
    "while n != guess:\n",
    "    \n",
    "    if guess < n:\n",
    "        print(\"Too Low\")\n",
    "        guess  = int(input(\"Enter number again: \"))\n",
    "        \n",
    "    elif guess > n:\n",
    "        \n",
    "        print(\"Too high\")\n",
    "        guess  = int(input(\"Enter number again: \"))\n",
    "    else:\n",
    "        break\n",
    "        \n",
    "print(\"Your guess is right\")"
   ]
  }
 ],
 "metadata": {
  "kernelspec": {
   "display_name": "Python 3 (ipykernel)",
   "language": "python",
   "name": "python3"
  },
  "language_info": {
   "codemirror_mode": {
    "name": "ipython",
    "version": 3
   },
   "file_extension": ".py",
   "mimetype": "text/x-python",
   "name": "python",
   "nbconvert_exporter": "python",
   "pygments_lexer": "ipython3",
   "version": "3.11.3"
  }
 },
 "nbformat": 4,
 "nbformat_minor": 5
}

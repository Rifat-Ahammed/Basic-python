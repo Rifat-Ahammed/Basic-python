{
 "cells": [
  {
   "cell_type": "code",
   "execution_count": 1,
   "id": "512da3b4",
   "metadata": {},
   "outputs": [
    {
     "name": "stdout",
     "output_type": "stream",
     "text": [
      "A: 5.65\n",
      "B: 6.32\n",
      "C: 3.25\n",
      "Average of three number is: 5.073\n"
     ]
    }
   ],
   "source": [
    "a = float(input(\"A: \"))\n",
    "b = float(input(\"B: \"))\n",
    "c = float(input(\"C: \"))\n",
    "\n",
    "avg = (a + b + c) / 3\n",
    "\n",
    "print(\"Average of three number is: %.3f\" % avg)"
   ]
  },
  {
   "cell_type": "code",
   "execution_count": null,
   "id": "388ec5bb",
   "metadata": {},
   "outputs": [],
   "source": []
  }
 ],
 "metadata": {
  "kernelspec": {
   "display_name": "Python 3 (ipykernel)",
   "language": "python",
   "name": "python3"
  },
  "language_info": {
   "codemirror_mode": {
    "name": "ipython",
    "version": 3
   },
   "file_extension": ".py",
   "mimetype": "text/x-python",
   "name": "python",
   "nbconvert_exporter": "python",
   "pygments_lexer": "ipython3",
   "version": "3.11.3"
  }
 },
 "nbformat": 4,
 "nbformat_minor": 5
}

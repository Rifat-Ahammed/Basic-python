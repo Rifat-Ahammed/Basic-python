{
 "cells": [
  {
   "cell_type": "code",
   "execution_count": 12,
   "id": "8aa28eab",
   "metadata": {},
   "outputs": [
    {
     "name": "stdout",
     "output_type": "stream",
     "text": [
      "Enter a number: 6\n",
      "6 is not a prime number\n"
     ]
    }
   ],
   "source": [
    "num = int(input(\"Enter a number: \"))\n",
    "count = 0\n",
    "\n",
    "if num < 0:\n",
    "    print(\"Enter a number grater than 0\")\n",
    "else:\n",
    "    for i in range (2, num):\n",
    "        if(num % 2 == 0):\n",
    "            count = count + 1\n",
    "            break\n",
    "if count > 0:\n",
    "    print(f\"{num} is not a prime number\")\n",
    "else:\n",
    "    print(f\"{num} is a prime number\")"
   ]
  }
 ],
 "metadata": {
  "kernelspec": {
   "display_name": "Python 3 (ipykernel)",
   "language": "python",
   "name": "python3"
  },
  "language_info": {
   "codemirror_mode": {
    "name": "ipython",
    "version": 3
   },
   "file_extension": ".py",
   "mimetype": "text/x-python",
   "name": "python",
   "nbconvert_exporter": "python",
   "pygments_lexer": "ipython3",
   "version": "3.11.3"
  }
 },
 "nbformat": 4,
 "nbformat_minor": 5
}

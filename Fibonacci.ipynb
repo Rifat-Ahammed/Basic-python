{
 "cells": [
  {
   "cell_type": "code",
   "execution_count": 2,
   "id": "3771c0f0",
   "metadata": {},
   "outputs": [
    {
     "name": "stdout",
     "output_type": "stream",
     "text": [
      "Enter a value: 7\n",
      "0, 1, 1, 2, 3, 5, 8, "
     ]
    }
   ],
   "source": [
    "num = int(input(\"Enter a value: \"))\n",
    "\n",
    "n1, n2 = 0, 1\n",
    "\n",
    "sum = 0\n",
    "\n",
    "if num < 0:\n",
    "    print(\"value shouldn't be less than 0\")\n",
    "    \n",
    "else:\n",
    "    for i in range(num):\n",
    "        print(sum, end=\", \")\n",
    "        n1 = n2\n",
    "        n2 = sum\n",
    "        sum = n1 + n2\n",
    "        "
   ]
  }
 ],
 "metadata": {
  "kernelspec": {
   "display_name": "Python 3 (ipykernel)",
   "language": "python",
   "name": "python3"
  },
  "language_info": {
   "codemirror_mode": {
    "name": "ipython",
    "version": 3
   },
   "file_extension": ".py",
   "mimetype": "text/x-python",
   "name": "python",
   "nbconvert_exporter": "python",
   "pygments_lexer": "ipython3",
   "version": "3.11.3"
  }
 },
 "nbformat": 4,
 "nbformat_minor": 5
}

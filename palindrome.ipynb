{
 "cells": [
  {
   "cell_type": "code",
   "execution_count": 2,
   "id": "227f806c",
   "metadata": {},
   "outputs": [
    {
     "name": "stdout",
     "output_type": "stream",
     "text": [
      "Need a string: abcd\n",
      "abcd is not plaindrome\n"
     ]
    }
   ],
   "source": [
    "pln = input(\"Need a string: \")\n",
    "\n",
    "ln =  len(pln)\n",
    "count = 0\n",
    "\n",
    "i = 0\n",
    "\n",
    "while(i < ln //2):\n",
    "    if( pln[i] != pln[ln - i -1]):\n",
    "        count += 1  \n",
    "        break\n",
    "    i += 1\n",
    "\n",
    "if(count > 0):\n",
    "    print(f\"{pln} is not plaindrome\")\n",
    "else:\n",
    "    print(f\"{pln} is a plaindrome\")"
   ]
  },
  {
   "cell_type": "code",
   "execution_count": null,
   "id": "504f4b4c",
   "metadata": {},
   "outputs": [],
   "source": []
  },
  {
   "cell_type": "code",
   "execution_count": null,
   "id": "e68b96c4",
   "metadata": {},
   "outputs": [],
   "source": []
  }
 ],
 "metadata": {
  "kernelspec": {
   "display_name": "Python 3 (ipykernel)",
   "language": "python",
   "name": "python3"
  },
  "language_info": {
   "codemirror_mode": {
    "name": "ipython",
    "version": 3
   },
   "file_extension": ".py",
   "mimetype": "text/x-python",
   "name": "python",
   "nbconvert_exporter": "python",
   "pygments_lexer": "ipython3",
   "version": "3.11.3"
  }
 },
 "nbformat": 4,
 "nbformat_minor": 5
}

{
 "cells": [
  {
   "cell_type": "code",
   "execution_count": 3,
   "id": "971496c0",
   "metadata": {},
   "outputs": [
    {
     "name": "stdout",
     "output_type": "stream",
     "text": [
      "Input a number: 143\n",
      "Reverse number is : 341\n"
     ]
    }
   ],
   "source": [
    "n = int(input(\"Input a number: \"))\n",
    "\n",
    "reverse = 0\n",
    "\n",
    "while (n != 0):\n",
    "    \n",
    "    remainder = n % 10\n",
    "    reverse = reverse * 10 + remainder\n",
    "    n //= 10 #(//) that sign means floor division\n",
    "    \n",
    "print(f\"Reverse number is : {reverse}\")"
   ]
  }
 ],
 "metadata": {
  "kernelspec": {
   "display_name": "Python 3 (ipykernel)",
   "language": "python",
   "name": "python3"
  },
  "language_info": {
   "codemirror_mode": {
    "name": "ipython",
    "version": 3
   },
   "file_extension": ".py",
   "mimetype": "text/x-python",
   "name": "python",
   "nbconvert_exporter": "python",
   "pygments_lexer": "ipython3",
   "version": "3.11.3"
  }
 },
 "nbformat": 4,
 "nbformat_minor": 5
}

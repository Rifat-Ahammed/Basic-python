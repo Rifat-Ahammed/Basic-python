{
 "cells": [
  {
   "cell_type": "code",
   "execution_count": 4,
   "id": "a0d6f1f0",
   "metadata": {},
   "outputs": [
    {
     "name": "stdout",
     "output_type": "stream",
     "text": [
      "Number for summation: 24\n",
      "Summation of even number is: 156\n"
     ]
    }
   ],
   "source": [
    "num = int(input(\"Number for summation: \"))\n",
    "\n",
    "sum = 0\n",
    "\n",
    "i = 1\n",
    "while(i <= num):\n",
    "    if(i % 2 == 0):\n",
    "        sum = sum + i\n",
    "    i = i + 1\n",
    "    \n",
    "print(f\"Summation of even number is: {sum}\")"
   ]
  },
  {
   "cell_type": "code",
   "execution_count": null,
   "id": "0bd08cad",
   "metadata": {},
   "outputs": [],
   "source": []
  }
 ],
 "metadata": {
  "kernelspec": {
   "display_name": "Python 3 (ipykernel)",
   "language": "python",
   "name": "python3"
  },
  "language_info": {
   "codemirror_mode": {
    "name": "ipython",
    "version": 3
   },
   "file_extension": ".py",
   "mimetype": "text/x-python",
   "name": "python",
   "nbconvert_exporter": "python",
   "pygments_lexer": "ipython3",
   "version": "3.11.3"
  }
 },
 "nbformat": 4,
 "nbformat_minor": 5
}

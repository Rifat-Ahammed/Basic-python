{
 "cells": [
  {
   "cell_type": "code",
   "execution_count": 11,
   "id": "6e6df1de",
   "metadata": {},
   "outputs": [
    {
     "name": "stdout",
     "output_type": "stream",
     "text": [
      "what's your grade: 33\n",
      "Fail\n"
     ]
    }
   ],
   "source": [
    "g = int(input(\"what's your grade: \"))\n",
    "\n",
    "if 90 <= g <= 100:\n",
    "    print(\"A+\")\n",
    "elif 80 <= g < 90:\n",
    "    print(\"A\")\n",
    "elif 70 <= g < 80:\n",
    "    print(\"B\")\n",
    "elif 60 <= g < 70:\n",
    "    print(\"C\")\n",
    "elif 50 <= g < 60:\n",
    "    print(\"D\")\n",
    "elif 40 <= g <= 50:\n",
    "    print(\"E\")\n",
    "else:\n",
    "    print(\"Fail\")"
   ]
  }
 ],
 "metadata": {
  "kernelspec": {
   "display_name": "Python 3 (ipykernel)",
   "language": "python",
   "name": "python3"
  },
  "language_info": {
   "codemirror_mode": {
    "name": "ipython",
    "version": 3
   },
   "file_extension": ".py",
   "mimetype": "text/x-python",
   "name": "python",
   "nbconvert_exporter": "python",
   "pygments_lexer": "ipython3",
   "version": "3.11.3"
  }
 },
 "nbformat": 4,
 "nbformat_minor": 5
}

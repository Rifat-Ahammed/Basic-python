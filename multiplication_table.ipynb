{
 "cells": [
  {
   "cell_type": "code",
   "execution_count": null,
   "id": "ba9541bd",
   "metadata": {},
   "outputs": [],
   "source": [
    "n = int(input(\"Need a number: \"))\n",
    "\n",
    "for i in range(1, 11):\n",
    "    mul = n * i\n",
    "    print(f\" {n} * {i} = \", mul)"
   ]
  },
  {
   "cell_type": "code",
   "execution_count": null,
   "id": "dc2cf1ba",
   "metadata": {},
   "outputs": [],
   "source": []
  }
 ],
 "metadata": {
  "kernelspec": {
   "display_name": "Python 3 (ipykernel)",
   "language": "python",
   "name": "python3"
  },
  "language_info": {
   "codemirror_mode": {
    "name": "ipython",
    "version": 3
   },
   "file_extension": ".py",
   "mimetype": "text/x-python",
   "name": "python",
   "nbconvert_exporter": "python",
   "pygments_lexer": "ipython3",
   "version": "3.11.3"
  }
 },
 "nbformat": 4,
 "nbformat_minor": 5
}

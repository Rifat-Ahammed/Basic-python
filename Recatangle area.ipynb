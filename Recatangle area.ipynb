{
 "cells": [
  {
   "cell_type": "code",
   "execution_count": 6,
   "id": "403fcf60",
   "metadata": {},
   "outputs": [
    {
     "name": "stdout",
     "output_type": "stream",
     "text": [
      "Lenght: 6.35\n",
      "Width: 23.54\n",
      "Area of Rectangle is: 149.479 m^2\n"
     ]
    }
   ],
   "source": [
    "l = float(input(\"Lenght: \"))\n",
    "w = float(input(\"Width: \"))\n",
    "\n",
    "area = l * w\n",
    "print(\"Area of Rectangle is: %.3f m^2\" % area)"
   ]
  },
  {
   "cell_type": "code",
   "execution_count": null,
   "id": "051de984",
   "metadata": {},
   "outputs": [],
   "source": []
  }
 ],
 "metadata": {
  "kernelspec": {
   "display_name": "Python 3 (ipykernel)",
   "language": "python",
   "name": "python3"
  },
  "language_info": {
   "codemirror_mode": {
    "name": "ipython",
    "version": 3
   },
   "file_extension": ".py",
   "mimetype": "text/x-python",
   "name": "python",
   "nbconvert_exporter": "python",
   "pygments_lexer": "ipython3",
   "version": "3.11.3"
  }
 },
 "nbformat": 4,
 "nbformat_minor": 5
}
